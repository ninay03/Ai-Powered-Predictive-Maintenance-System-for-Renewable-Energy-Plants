{
  "nbformat": 4,
  "nbformat_minor": 0,
  "metadata": {
    "colab": {
      "provenance": [],
      "gpuType": "T4",
      "authorship_tag": "ABX9TyOfceRhP4Ni5MpDrz1KK6ig",
      "include_colab_link": true
    },
    "kernelspec": {
      "name": "python3",
      "display_name": "Python 3"
    },
    "language_info": {
      "name": "python"
    },
    "accelerator": "GPU"
  },
  "cells": [
    {
      "cell_type": "markdown",
      "metadata": {
        "id": "view-in-github",
        "colab_type": "text"
      },
      "source": [
        "<a href=\"https://colab.research.google.com/github/ninay03/Ai-Powered-Predictive-Maintenance-System-for-Renewable-Energy-Plants/blob/main/Wind_Power_Plant_Trained_Model.ipynb\" target=\"_parent\"><img src=\"https://colab.research.google.com/assets/colab-badge.svg\" alt=\"Open In Colab\"/></a>"
      ]
    },
    {
      "cell_type": "code",
      "execution_count": null,
      "metadata": {
        "id": "A3C0Rom-CHG9"
      },
      "outputs": [],
      "source": [
        "import pandas as pd\n",
        "import json\n",
        "import numpy as np\n",
        "import matplotlib.pyplot as plt\n",
        "import seaborn as sns\n",
        "import warnings\n",
        "warnings.filterwarnings('ignore')"
      ]
    },
    {
      "cell_type": "code",
      "source": [
        "data = pd.read_csv('/content/merged_dataset.csv')"
      ],
      "metadata": {
        "id": "Wn_r-QqNC1O-"
      },
      "execution_count": null,
      "outputs": []
    },
    {
      "cell_type": "code",
      "source": [
        "data.columns"
      ],
      "metadata": {
        "id": "BE_w0zqUC9bD",
        "colab": {
          "base_uri": "https://localhost:8080/"
        },
        "outputId": "7e4f7366-30c5-4303-80d0-75ad1c5f9526"
      },
      "execution_count": null,
      "outputs": [
        {
          "output_type": "execute_result",
          "data": {
            "text/plain": [
              "Index(['dia_mes_ano', 'hora_minuto', 'irr', 'massaPM1', 'massaPM2', 'massaPM4',\n",
              "       'massaPM10', 'numPM1', 'numPM2', 'numPM4', 'numPM10', 'tamanho_medio',\n",
              "       'temp', 'vento_dir', 'vento_vel', 'rainfall'],\n",
              "      dtype='object')"
            ]
          },
          "metadata": {},
          "execution_count": 17
        }
      ]
    },
    {
      "cell_type": "code",
      "source": [
        "df = data.copy()"
      ],
      "metadata": {
        "id": "YkRQimUnF2sW"
      },
      "execution_count": null,
      "outputs": []
    },
    {
      "cell_type": "code",
      "source": [
        "import pandas as pd\n",
        "import numpy as np\n",
        "from sklearn.model_selection import train_test_split\n",
        "from sklearn.ensemble import RandomForestRegressor\n",
        "from sklearn.metrics import r2_score, mean_absolute_error\n",
        "\n",
        "# ----------------------------\n",
        "# Step 1: Load and Preprocess Data\n",
        "# ----------------------------\n",
        "# Load data\n",
        "df = pd.read_csv('/content/merged_dataset.csv')\n",
        "\n",
        "# Convert datetime\n",
        "df['dia_mes_ano'] = pd.to_datetime(df['dia_mes_ano'], format='%Y%m%d')\n",
        "\n",
        "# Ensure hora_minuto is six digits long\n",
        "df['hora_minuto'] = df['hora_minuto'].apply(lambda x: f\"{int(x):06d}\")\n",
        "df['hora_minuto'] = pd.to_datetime(df['hora_minuto'], format='%H%M%S').dt.time\n",
        "\n",
        "# Extract time features\n",
        "df['hour'] = pd.to_datetime(df['hora_minuto'].astype(str), format='%H:%M:%S').dt.hour\n",
        "df['day_of_week'] = df['dia_mes_ano'].dt.dayofweek\n",
        "df['month'] = df['dia_mes_ano'].dt.month\n",
        "\n",
        "# Drop original datetime columns\n",
        "df = df.drop(['dia_mes_ano', 'hora_minuto'], axis=1)\n",
        "\n",
        "# ----------------------------\n",
        "# Step 2: Calculate Health Score\n",
        "# ----------------------------\n",
        "# Handle missing historical data in expected_irr\n",
        "expected_irr = df.groupby(['month', 'hour'])['irr'].transform('mean')\n",
        "expected_irr = expected_irr.fillna(df['irr'].mean())  # Fill NaN with global average\n",
        "\n",
        "# Define PM10 threshold\n",
        "PM10_THRESHOLD = 25\n",
        "\n",
        "# Calculate health_score (handle division by zero)\n",
        "df['health_score'] = (df['irr'] / expected_irr.replace(0, 1e-6)) * (1 - (df['massaPM10'] / PM10_THRESHOLD))\n",
        "df['health_score'] = np.clip(df['health_score'], 0, 1)\n",
        "\n",
        "# Drop rows with NaN in health_score\n",
        "df = df.dropna(subset=['health_score'])\n",
        "\n",
        "# ----------------------------\n",
        "# Step 3: Train Model\n",
        "# ----------------------------\n",
        "X = df.drop('health_score', axis=1)\n",
        "y = df['health_score']\n",
        "# Split data\n",
        "X_train, X_test, y_train, y_test = train_test_split(X, y, test_size=0.2, random_state=42)\n",
        "\n"
      ],
      "metadata": {
        "id": "em3FXVigLjYF"
      },
      "execution_count": null,
      "outputs": []
    },
    {
      "cell_type": "code",
      "source": [
        "model = RandomForestRegressor(\n",
        "    n_estimators=100,\n",
        "    max_depth=10,\n",
        "    min_samples_leaf=4,\n",
        "    max_features='sqrt',  # Consider sqrt(features) at each split\n",
        "    random_state=42\n",
        ")\n"
      ],
      "metadata": {
        "id": "RqGHZdO9em84"
      },
      "execution_count": null,
      "outputs": []
    },
    {
      "cell_type": "code",
      "source": [
        "\n",
        "model.fit(X_train, y_train)\n",
        "\n",
        "# ----------------------------\n",
        "# Step 4: Evaluate Model\n",
        "# ----------------------------\n",
        "y_pred = model.predict(X_test)\n",
        "r2 = r2_score(y_test, y_pred)\n",
        "mae = mean_absolute_error(y_test, y_pred)\n",
        "\n",
        "print(f\"R² Score: {r2:.4f}\")\n",
        "print(f\"Mean Absolute Error: {mae:.4f}\")\n",
        "\n",
        "# ----------------------------"
      ],
      "metadata": {
        "id": "oquu_ihjerG3",
        "colab": {
          "base_uri": "https://localhost:8080/"
        },
        "outputId": "e1191393-7fc4-41b2-98c8-520f330db63e"
      },
      "execution_count": null,
      "outputs": [
        {
          "output_type": "stream",
          "name": "stdout",
          "text": [
            "R² Score: 0.9296\n",
            "Mean Absolute Error: 0.0657\n"
          ]
        }
      ]
    },
    {
      "cell_type": "code",
      "source": [
        "\n",
        "\n",
        "def predict_health_score():\n",
        "    json_input = input(\"Enter the input data as a JSON object: \")\n",
        "\n",
        "    try:\n",
        "        data = json.loads(json_input)  # Parse JSON input\n",
        "\n",
        "        # Required keys\n",
        "        required_keys = [\n",
        "            'irr', 'massaPM1', 'massaPM2', 'massaPM4', 'massaPM10',\n",
        "            'numPM1', 'numPM2', 'numPM4', 'hour', 'day_of_week', 'month',\n",
        "            'numPM10', 'rainfall', 'tamanho_medio', 'temp', 'vento_dir', 'vento_vel'\n",
        "        ]\n",
        "\n",
        "        # Check if all required keys are present\n",
        "        if not all(key in data for key in required_keys):\n",
        "            missing_keys = [key for key in required_keys if key not in data]\n",
        "            print(f\"Missing keys in input JSON: {missing_keys}\")\n",
        "            return\n",
        "\n",
        "        # Prepare input for prediction\n",
        "        input_data = pd.DataFrame([data])\n",
        "\n",
        "        # Prediction\n",
        "        prediction = model.predict(input_data)\n",
        "        print(f\"\\nPredicted Health Score: {prediction[0]:.4f}\")\n",
        "\n",
        "    except json.JSONDecodeError:\n",
        "        print(\"Invalid JSON format. Please enter a valid JSON object.\")\n",
        "\n",
        "# Run Prediction\n",
        "predict_health_score()\n"
      ],
      "metadata": {
        "colab": {
          "base_uri": "https://localhost:8080/"
        },
        "id": "bW7jgnLUNrGo",
        "outputId": "b5fb4c9c-c234-49de-e9e6-17849a301af7"
      },
      "execution_count": null,
      "outputs": [
        {
          "output_type": "stream",
          "name": "stdout",
          "text": [
            "Enter the input data as a JSON object: {     \"irr\": 0,     \"massaPM1\": 8.58,     \"massaPM2\": 0.29,     \"massaPM4\": 0,     \"massaPM10\": 0,     \"numPM1\": 70.76,     \"numPM2\": 0.19,     \"numPM4\": 0,     \"numPM10\": 0,     \"tamanho_medio\": 0.45,     \"temp\": 23.62,     \"vento_dir\": 45,     \"vento_vel\": 7.98,     \"rainfall\": 0,     \"hour\": 3,     \"day_of_week\": 4,     \"month\": 10 }\n",
            "\n",
            "Predicted Health Score: 0.0039\n"
          ]
        }
      ]
    },
    {
      "cell_type": "code",
      "source": [
        "import joblib\n",
        "\n",
        "# Save the feature order\n",
        "feature_order = X_train.columns.tolist()\n",
        "\n",
        "# Save model and feature order together\n",
        "joblib.dump((model, feature_order), \"wind_energy_trained_model.pkl\")\n",
        "\n"
      ],
      "metadata": {
        "id": "UqER8IM7fRHD",
        "colab": {
          "base_uri": "https://localhost:8080/"
        },
        "outputId": "167eb2ee-af88-4652-e3b6-b75c7fd5b04f"
      },
      "execution_count": null,
      "outputs": [
        {
          "output_type": "execute_result",
          "data": {
            "text/plain": [
              "['wind_energy_trained_model.pkl']"
            ]
          },
          "metadata": {},
          "execution_count": 25
        }
      ]
    }
  ]
}