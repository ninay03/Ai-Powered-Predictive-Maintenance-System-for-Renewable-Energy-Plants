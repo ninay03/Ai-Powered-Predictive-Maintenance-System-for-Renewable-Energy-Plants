{
  "nbformat": 4,
  "nbformat_minor": 0,
  "metadata": {
    "colab": {
      "provenance": [],
      "toc_visible": true,
      "authorship_tag": "ABX9TyN7SIt7tkzFyIqhYtflLHDs",
      "include_colab_link": true
    },
    "kernelspec": {
      "name": "python3",
      "display_name": "Python 3"
    },
    "language_info": {
      "name": "python"
    }
  },
  "cells": [
    {
      "cell_type": "markdown",
      "metadata": {
        "id": "view-in-github",
        "colab_type": "text"
      },
      "source": [
        "<a href=\"https://colab.research.google.com/github/ninay03/Ai-Powered-Predictive-Maintenance-System-for-Renewable-Energy-Plants/blob/main/Solar_Model.ipynb\" target=\"_parent\"><img src=\"https://colab.research.google.com/assets/colab-badge.svg\" alt=\"Open In Colab\"/></a>"
      ]
    },
    {
      "cell_type": "code",
      "source": [],
      "metadata": {
        "id": "BR8-FGbqvhGT"
      },
      "execution_count": null,
      "outputs": []
    },
    {
      "cell_type": "code",
      "source": [
        "import numpy as np\n",
        "import json\n",
        "import pandas as pd\n",
        "from sklearn.model_selection import train_test_split\n",
        "from sklearn.ensemble import GradientBoostingRegressor\n",
        "from sklearn.metrics import r2_score, mean_absolute_error\n",
        "from sklearn.model_selection import GridSearchCV\n",
        "\n",
        "# Step 1: Load and Preprocess Data\n",
        "\n",
        "df = pd.read_csv('/content/solar_sensor_data_100000.csv')\n",
        "\n",
        "# Drop Timestamp\n",
        "\n",
        "df = df.drop(columns=['Timestamp'])\n",
        "\n",
        "# Check for required columns\n",
        "\n",
        "target = 'System_Health_Score_%'\n",
        "if target not in df.columns:\n",
        "    raise ValueError(\"Target column is missing in the dataset\")\n",
        "\n",
        "# Remove rows with missing target values\n",
        "\n",
        "df = df.dropna(subset=[target])\n",
        "\n",
        "# Split Features and Target\n",
        "\n",
        "X = df.drop(columns=[target])\n",
        "y = df[target]\n",
        "\n",
        "# Convert all columns to numeric (in case of object type)\n",
        "\n",
        "X = X.apply(pd.to_numeric, errors='coerce')\n",
        "X = X.fillna(X.mean())  # Fill NaNs with column mean\n",
        "\n",
        "# Step 2: Split Data\n",
        "\n",
        "X_train, X_test, y_train, y_test = train_test_split(X, y, test_size=0.2, random_state=42)\n",
        "\n",
        "# Step 3: Train Gradient Boosting Model\n",
        "\n",
        "# Gradient Boosting Regressor with Early Stopping\n",
        "model = GradientBoostingRegressor(\n",
        "    learning_rate=0.1,\n",
        "    n_estimators=1000,\n",
        "    max_depth=5,\n",
        "    min_samples_split=3,\n",
        "    min_samples_leaf=2,\n",
        "    random_state=42,\n",
        "    validation_fraction=0.2,\n",
        "    n_iter_no_change=10,\n",
        "    tol=0.001\n",
        ")\n",
        "\n",
        "model.fit(X_train, y_train)\n",
        "\n",
        "# Step 4: Evaluate Model\n",
        "\n",
        "y_pred_train = model.predict(X_train)\n",
        "y_pred_test = model.predict(X_test)\n",
        "\n",
        "r2_train = r2_score(y_train, y_pred_train)\n",
        "r2_test = r2_score(y_test, y_pred_test)\n",
        "mae_train = mean_absolute_error(y_train, y_pred_train)\n",
        "mae_test = mean_absolute_error(y_test, y_pred_test)\n",
        "\n",
        "print(f\"Training R² Score: {r2_train:.4f}\")\n",
        "print(f\"Testing R² Score: {r2_test:.4f}\")\n",
        "print(f\"Training Mean Absolute Error: {mae_train:.4f}\")\n",
        "print(f\"Testing Mean Absolute Error: {mae_test:.4f}\")\n",
        "\n",
        "# Step 5: Predict Function\n",
        "\n"
      ],
      "metadata": {
        "id": "439Vdbj06cbv"
      },
      "execution_count": null,
      "outputs": []
    }
  ]
}