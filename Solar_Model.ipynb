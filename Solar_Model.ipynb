{
  "cells": [
    {
      "cell_type": "markdown",
      "metadata": {
        "id": "view-in-github",
        "colab_type": "text"
      },
      "source": [
        "<a href=\"https://colab.research.google.com/github/ninay03/Ai-Powered-Predictive-Maintenance-System-for-Renewable-Energy-Plants/blob/main/Solar_Model.ipynb\" target=\"_parent\"><img src=\"https://colab.research.google.com/assets/colab-badge.svg\" alt=\"Open In Colab\"/></a>"
      ]
    },
    {
      "cell_type": "markdown",
      "metadata": {
        "id": "31kQRh95mBl8"
      },
      "source": [
        "SOLAR **MODEL**"
      ]
    },
    {
      "cell_type": "code",
      "execution_count": null,
      "metadata": {
        "colab": {
          "background_save": true
        },
        "id": "439Vdbj06cbv",
        "outputId": "2a946712-7ced-42db-c3ab-3f82869083f2"
      },
      "outputs": [
        {
          "name": "stdout",
          "output_type": "stream",
          "text": [
            "Training R² Score: 0.9725\n",
            "Testing R² Score: 0.9636\n",
            "Training Mean Absolute Error: 1.3187\n",
            "Testing Mean Absolute Error: 1.5130\n",
            "Model saved successfully as gradient_boosting_model.pkl\n"
          ]
        }
      ],
      "source": [
        "import numpy as np\n",
        "import json\n",
        "import pandas as pd\n",
        "from sklearn.model_selection import train_test_split\n",
        "from sklearn.ensemble import GradientBoostingRegressor\n",
        "from sklearn.metrics import r2_score, mean_absolute_error\n",
        "from sklearn.model_selection import GridSearchCV\n",
        "import pickle\n",
        "\n",
        "# Step 1: Load and Preprocess Data\n",
        "\n",
        "df = pd.read_csv('/content/solar_sensor_data_100000.csv')\n",
        "\n",
        "# Drop Timestamp\n",
        "\n",
        "df = df.drop(columns=['Timestamp'], errors='ignore')\n",
        "\n",
        "# Check for required columns\n",
        "\n",
        "target = 'System_Health_Score_%'\n",
        "if target not in df.columns:\n",
        "    raise ValueError(\"Target column is missing in the dataset\")\n",
        "\n",
        "# Remove rows with missing target values\n",
        "\n",
        "df = df.dropna(subset=[target])\n",
        "\n",
        "# Split Features and Target\n",
        "\n",
        "X = df.drop(columns=[target])\n",
        "y = df[target]\n",
        "\n",
        "# Convert all columns to numeric (in case of object type)\n",
        "\n",
        "X = X.apply(pd.to_numeric, errors='coerce')\n",
        "X = X.fillna(X.mean())  # Fill NaNs with column mean\n",
        "\n",
        "# Step 2: Split Data\n",
        "\n",
        "X_train, X_test, y_train, y_test = train_test_split(X, y, test_size=0.2, random_state=42)\n",
        "\n",
        "# Step 3: Train Gradient Boosting Model\n",
        "\n",
        "model = GradientBoostingRegressor(\n",
        "    learning_rate=0.1,\n",
        "    n_estimators=1000,\n",
        "    max_depth=5,\n",
        "    min_samples_split=3,\n",
        "    min_samples_leaf=2,\n",
        "    random_state=42,\n",
        "    validation_fraction=0.2,\n",
        "    n_iter_no_change=10,\n",
        "    tol=0.001\n",
        ")\n",
        "\n",
        "model.fit(X_train, y_train)\n",
        "\n",
        "# Step 4: Evaluate Model\n",
        "\n",
        "y_pred_train = model.predict(X_train)\n",
        "y_pred_test = model.predict(X_test)\n",
        "\n",
        "r2_train = r2_score(y_train, y_pred_train)\n",
        "r2_test = r2_score(y_test, y_pred_test)\n",
        "mae_train = mean_absolute_error(y_train, y_pred_train)\n",
        "mae_test = mean_absolute_error(y_test, y_pred_test)\n",
        "\n",
        "print(f\"Training R² Score: {r2_train:.4f}\")\n",
        "print(f\"Testing R² Score: {r2_test:.4f}\")\n",
        "print(f\"Training Mean Absolute Error: {mae_train:.4f}\")\n",
        "print(f\"Testing Mean Absolute Error: {mae_test:.4f}\")\n",
        "\n",
        "# Step 5: Save Model as Pickle File\n",
        "\n",
        "model_filename = \"gradient_boosting_model.pkl\"\n",
        "with open(model_filename, 'wb') as file:\n",
        "    pickle.dump(model, file)\n",
        "\n",
        "print(f\"Model saved successfully as {model_filename}\")\n",
        "\n",
        "# Step 6: Prediction Function\n",
        "\n",
        "def predict_health_score(input_data):\n",
        "    \"\"\"\n",
        "    Predicts System Health Score based on input data.\n",
        "\n",
        "    Parameters:\n",
        "        input_data (dict): Dictionary containing feature values.\n",
        "\n",
        "    Returns:\n",
        "        dict: Predicted health score and model accuracy.\n",
        "    \"\"\"\n",
        "    # Load the trained model\n",
        "\n",
        "    with open(model_filename, 'rb') as file:\n",
        "        loaded_model = pickle.load(file)\n",
        "\n",
        "    # Convert input dictionary to DataFrame\n",
        "\n",
        "    input_df = pd.DataFrame([input_data])\n",
        "\n",
        "    # Ensure all values are numeric\n",
        "\n",
        "    input_df = input_df.apply(pd.to_numeric, errors='coerce')\n",
        "    input_df = input_df.fillna(X.mean())  # Fill NaNs with column mean\n",
        "\n",
        "    # Make Prediction\n",
        "\n",
        "    predicted_score = loaded_model.predict(input_df)[0]\n",
        "\n",
        "    # Calculate prediction accuracy\n",
        "\n",
        "    accuracy = r2_test * 100  # Convert to percentage\n",
        "\n",
        "    return {\n",
        "        \"Predicted_System_Health_Score\": round(predicted_score, 2),\n",
        "\n",
        "        \"Model_Accuracy\": round(accuracy, 2)\n",
        "    }\n",
        "\n"
      ]
    },
    {
      "cell_type": "code",
      "execution_count": null,
      "metadata": {
        "colab": {
          "background_save": true
        },
        "id": "S_S-hykHfvIm",
        "outputId": "1e641558-b5d2-4b51-b32a-bac59f697825"
      },
      "outputs": [
        {
          "name": "stdout",
          "output_type": "stream",
          "text": [
            "{\n",
            "    \"Predicted_System_Health_Score\": 81.96,\n",
            "    \"Model_Accuracy\": 96.36\n",
            "}\n"
          ]
        }
      ],
      "source": [
        "# Example Usage of Predict Function\n",
        "\n",
        "example_input = {\n",
        "    \"Temperature_C\": 46.79,\n",
        "    \"IR_Hotspot_Temperature_C\": 69.11,\n",
        "    \"Current_A\": 12.1,\n",
        "    \"Voltage_V\": 426.4933,\n",
        "    \"IV_Curve_Efficiency_%\": 95.78846,\n",
        "    \"Solar_Irradiance_Wm2\": 821.3931,\n",
        "    \"Wind_Speed_mps\": 18.7398,\n",
        "    \"Humidity_%\": 76.86751,\n",
        "    \"Dust_Level_gm2\": 45.7,\n",
        "    \"Power_Output_kW\": 172.5934,\n",
        "    \"Harmonic_Distortion_%\": 3.649823,\n",
        "    \"Ground_Fault_Current_mA\": 89.0,\n",
        "    \"Cooling_Fan_Speed_RPM\": 1715.368,\n",
        "    \"Vibration_mms\": 1.892182,\n",
        "    \"Tilt_Angle_deg\":\t2.897056\n",
        "\n",
        "\n",
        "    # Add more features according to your dataset\n",
        "}\n",
        "\n",
        "result = predict_health_score(example_input)\n",
        "print(json.dumps(result, indent=4))\n"
      ]
    },
    {
      "cell_type": "code",
      "execution_count": null,
      "metadata": {
        "colab": {
          "background_save": true
        },
        "id": "AU4kBBTlaQqR",
        "outputId": "31d6ba84-1e6d-41cc-e11b-3a0f33397a5d"
      },
      "outputs": [
        {
          "name": "stdout",
          "output_type": "stream",
          "text": [
            "Model saved successfully as gradient_boosting_model.pkl\n"
          ]
        }
      ],
      "source": [
        "import pickle\n",
        "\n",
        "# Define the filename\n",
        "model_filename = \"gradient_boosting_model.pkl\"\n",
        "\n",
        "# Save the trained model\n",
        "with open(model_filename, 'wb') as file:\n",
        "    pickle.dump(model, file)\n",
        "\n",
        "print(f\"Model saved successfully as {model_filename}\")\n"
      ]
    },
    {
      "cell_type": "code",
      "execution_count": null,
      "metadata": {
        "colab": {
          "background_save": true
        },
        "id": "CaYRVtTpaYwT",
        "outputId": "1513ca0e-d970-4a26-e3ad-37c9b4e73426"
      },
      "outputs": [
        {
          "name": "stdout",
          "output_type": "stream",
          "text": [
            "Model loaded successfully\n",
            "Predicted System Health Score: 102.51%\n"
          ]
        }
      ],
      "source": [
        "# Load the model\n",
        "with open(model_filename, 'rb') as file:\n",
        "    loaded_model = pickle.load(file)\n",
        "\n",
        "print(\"Model loaded successfully\")\n",
        "\n",
        "# Example prediction using the loaded model\n",
        "sample_input = X_test.iloc[0:1]  # Selecting a sample from test data\n",
        "predicted_value = loaded_model.predict(sample_input)\n",
        "print(f\"Predicted System Health Score: {predicted_value[0]:.2f}%\")\n"
      ]
    }
  ],
  "metadata": {
    "colab": {
      "provenance": [],
      "authorship_tag": "ABX9TyMw6AC9GMEwPJq4ASLPmGCj",
      "include_colab_link": true
    },
    "kernelspec": {
      "display_name": "Python 3",
      "name": "python3"
    },
    "language_info": {
      "name": "python"
    }
  },
  "nbformat": 4,
  "nbformat_minor": 0
}